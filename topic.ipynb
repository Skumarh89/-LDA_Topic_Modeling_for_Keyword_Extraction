{
 "cells": [
  {
   "cell_type": "code",
   "execution_count": 8,
   "metadata": {},
   "outputs": [
    {
     "name": "stderr",
     "output_type": "stream",
     "text": [
      "[nltk_data] Downloading package punkt to /home/iiit/nltk_data...\n",
      "[nltk_data]   Package punkt is already up-to-date!\n",
      "[nltk_data] Downloading package stopwords to /home/iiit/nltk_data...\n",
      "[nltk_data]   Package stopwords is already up-to-date!\n",
      "[nltk_data] Downloading package wordnet to /home/iiit/nltk_data...\n",
      "[nltk_data]   Package wordnet is already up-to-date!\n"
     ]
    },
    {
     "ename": "ValueError",
     "evalue": "max_df corresponds to < documents than min_df",
     "output_type": "error",
     "traceback": [
      "\u001b[0;31m---------------------------------------------------------------------------\u001b[0m",
      "\u001b[0;31mValueError\u001b[0m                                Traceback (most recent call last)",
      "Cell \u001b[0;32mIn[8], line 62\u001b[0m\n\u001b[1;32m     59\u001b[0m num_topics \u001b[39m=\u001b[39m \u001b[39mmin\u001b[39m(\u001b[39m5\u001b[39m, \u001b[39mlen\u001b[39m(word_tokenize(user_input)))\n\u001b[1;32m     61\u001b[0m \u001b[39m# Identify keywords using LDA topic modeling\u001b[39;00m\n\u001b[0;32m---> 62\u001b[0m topics_keywords \u001b[39m=\u001b[39m perform_lda(user_input, num_topics)\n\u001b[1;32m     64\u001b[0m \u001b[39m# Save the results to a CSV file\u001b[39;00m\n\u001b[1;32m     65\u001b[0m csv_file \u001b[39m=\u001b[39m \u001b[39m\"\u001b[39m\u001b[39mlda_results.csv\u001b[39m\u001b[39m\"\u001b[39m\n",
      "Cell \u001b[0;32mIn[8], line 39\u001b[0m, in \u001b[0;36mperform_lda\u001b[0;34m(text, num_topics)\u001b[0m\n\u001b[1;32m     37\u001b[0m \u001b[39m# Create a document-term matrix using CountVectorizer\u001b[39;00m\n\u001b[1;32m     38\u001b[0m vectorizer \u001b[39m=\u001b[39m CountVectorizer(min_df\u001b[39m=\u001b[39m\u001b[39m1\u001b[39m, max_df\u001b[39m=\u001b[39m\u001b[39m0.8\u001b[39m)  \u001b[39m# Adjust min_df and max_df values to control redundancy\u001b[39;00m\n\u001b[0;32m---> 39\u001b[0m dtm \u001b[39m=\u001b[39m vectorizer\u001b[39m.\u001b[39;49mfit_transform([preprocessed_text])\n\u001b[1;32m     41\u001b[0m \u001b[39m# Apply LDA with the specified number of topics\u001b[39;00m\n\u001b[1;32m     42\u001b[0m lda_model \u001b[39m=\u001b[39m LatentDirichletAllocation(n_components\u001b[39m=\u001b[39mnum_topics, random_state\u001b[39m=\u001b[39m\u001b[39m42\u001b[39m)\n",
      "File \u001b[0;32m~/anaconda3/envs/quora_qst/lib/python3.9/site-packages/sklearn/feature_extraction/text.py:1398\u001b[0m, in \u001b[0;36mCountVectorizer.fit_transform\u001b[0;34m(self, raw_documents, y)\u001b[0m\n\u001b[1;32m   1396\u001b[0m min_doc_count \u001b[39m=\u001b[39m min_df \u001b[39mif\u001b[39;00m \u001b[39misinstance\u001b[39m(min_df, Integral) \u001b[39melse\u001b[39;00m min_df \u001b[39m*\u001b[39m n_doc\n\u001b[1;32m   1397\u001b[0m \u001b[39mif\u001b[39;00m max_doc_count \u001b[39m<\u001b[39m min_doc_count:\n\u001b[0;32m-> 1398\u001b[0m     \u001b[39mraise\u001b[39;00m \u001b[39mValueError\u001b[39;00m(\u001b[39m\"\u001b[39m\u001b[39mmax_df corresponds to < documents than min_df\u001b[39m\u001b[39m\"\u001b[39m)\n\u001b[1;32m   1399\u001b[0m \u001b[39mif\u001b[39;00m max_features \u001b[39mis\u001b[39;00m \u001b[39mnot\u001b[39;00m \u001b[39mNone\u001b[39;00m:\n\u001b[1;32m   1400\u001b[0m     X \u001b[39m=\u001b[39m \u001b[39mself\u001b[39m\u001b[39m.\u001b[39m_sort_features(X, vocabulary)\n",
      "\u001b[0;31mValueError\u001b[0m: max_df corresponds to < documents than min_df"
     ]
    }
   ],
   "source": [
    "import nltk\n",
    "from nltk.corpus import stopwords\n",
    "from nltk.tokenize import word_tokenize\n",
    "from nltk.stem import WordNetLemmatizer\n",
    "from sklearn.feature_extraction.text import CountVectorizer\n",
    "from sklearn.decomposition import LatentDirichletAllocation\n",
    "import csv\n",
    "\n",
    "# Download NLTK resources (needed for stopwords and lemmatization)\n",
    "nltk.download(\"punkt\")\n",
    "nltk.download(\"stopwords\")\n",
    "nltk.download(\"wordnet\")\n",
    "\n",
    "# Function to preprocess text\n",
    "def preprocess_text(text):\n",
    "    # Tokenize text into words\n",
    "    words = word_tokenize(text)\n",
    "    \n",
    "    # Convert to lowercase and remove punctuation\n",
    "    words = [word.lower() for word in words if word.isalpha()]\n",
    "    \n",
    "    # Remove stopwords\n",
    "    stop_words = set(stopwords.words(\"english\"))\n",
    "    words = [word for word in words if word not in stop_words]\n",
    "    \n",
    "    # Lemmatize words\n",
    "    lemmatizer = WordNetLemmatizer()\n",
    "    words = [lemmatizer.lemmatize(word) for word in words]\n",
    "    \n",
    "    return \" \".join(words)\n",
    "\n",
    "# Function to perform LDA topic modeling\n",
    "def perform_lda(text, num_topics):\n",
    "    # Preprocess the text\n",
    "    preprocessed_text = preprocess_text(text)\n",
    "    \n",
    "    # Create a document-term matrix using CountVectorizer\n",
    "    vectorizer = CountVectorizer(min_df=1, max_df=1.0)  # Adjust min_df and max_df values to control redundancy\n",
    "    dtm = vectorizer.fit_transform([preprocessed_text])\n",
    "    \n",
    "    # Apply LDA with the specified number of topics\n",
    "    lda_model = LatentDirichletAllocation(n_components=num_topics, random_state=42)\n",
    "    lda_model.fit(dtm)\n",
    "    \n",
    "    # Get the most significant words and their probability scores for each topic\n",
    "    feature_names = vectorizer.get_feature_names_out()\n",
    "    topics_keywords = []\n",
    "    for topic_idx, topic in enumerate(lda_model.components_):\n",
    "        topic_keywords = [feature_names[i] for i in topic.argsort()[:-6:-1]]\n",
    "        topic_prob_scores = [round(topic[i], 2) for i in topic.argsort()[:-6:-1]]\n",
    "        topics_keywords.append((topic_idx, topic_keywords, topic_prob_scores))\n",
    "    \n",
    "    return topics_keywords\n",
    "\n",
    "# Read user input dynamically\n",
    "user_input = input(\"Enter your text passage or paragraph: \")\n",
    "\n",
    "# Dynamically adjust the number of topics as needed\n",
    "num_topics = min(5, len(word_tokenize(user_input)))\n",
    "\n",
    "# Identify keywords using LDA topic modeling\n",
    "topics_keywords = perform_lda(user_input, num_topics)\n",
    "\n",
    "# Save the results to a CSV file\n",
    "csv_file = \"lda_results.csv\"\n",
    "with open(csv_file, mode='w', encoding='utf-8', newline='') as file:\n",
    "    writer = csv.writer(file)\n",
    "    writer.writerow([\"Topic ID\", \"Keywords\", \"Probability Scores\"])\n",
    "    for topic_idx, keywords, prob_scores in topics_keywords:\n",
    "        writer.writerow([topic_idx, \", \".join(keywords), \", \".join(map(str, prob_scores))])\n",
    "\n",
    "print(\"Results saved to lda_results.csv\")\n"
   ]
  },
  {
   "cell_type": "code",
   "execution_count": null,
   "metadata": {},
   "outputs": [],
   "source": []
  }
 ],
 "metadata": {
  "kernelspec": {
   "display_name": "quora_qst",
   "language": "python",
   "name": "python3"
  },
  "language_info": {
   "codemirror_mode": {
    "name": "ipython",
    "version": 3
   },
   "file_extension": ".py",
   "mimetype": "text/x-python",
   "name": "python",
   "nbconvert_exporter": "python",
   "pygments_lexer": "ipython3",
   "version": "3.9.17"
  },
  "orig_nbformat": 4
 },
 "nbformat": 4,
 "nbformat_minor": 2
}
